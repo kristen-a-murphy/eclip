{
  "nbformat": 4,
  "nbformat_minor": 0,
  "metadata": {
    "kernelspec": {
      "display_name": "Python 3",
      "language": "python",
      "name": "python3"
    },
    "language_info": {
      "codemirror_mode": {
        "name": "ipython",
        "version": 3
      },
      "file_extension": ".py",
      "mimetype": "text/x-python",
      "name": "python",
      "nbconvert_exporter": "python",
      "pygments_lexer": "ipython3",
      "version": "3.7.6"
    },
    "colab": {
      "name": "Practice7.ipynb",
      "provenance": [],
      "collapsed_sections": [],
      "include_colab_link": true
    },
    "widgets": {
      "application/vnd.jupyter.widget-state+json": {
        "be67e5a3b1ee4ae88edc98c82f40ad3f": {
          "model_module": "@jupyter-widgets/controls",
          "model_name": "HBoxModel",
          "model_module_version": "1.5.0",
          "state": {
            "_view_name": "HBoxView",
            "_dom_classes": [],
            "_model_name": "HBoxModel",
            "_view_module": "@jupyter-widgets/controls",
            "_model_module_version": "1.5.0",
            "_view_count": null,
            "_view_module_version": "1.5.0",
            "box_style": "",
            "layout": "IPY_MODEL_629eec3764c442e7937660fbfea56888",
            "_model_module": "@jupyter-widgets/controls",
            "children": [
              "IPY_MODEL_1502293af5c2497d860d9f00279c0397",
              "IPY_MODEL_4e79ba413fa64a22a91300adf739caa5",
              "IPY_MODEL_e28debc634a14ea0a0661ca49ca2d45a"
            ]
          }
        },
        "629eec3764c442e7937660fbfea56888": {
          "model_module": "@jupyter-widgets/base",
          "model_name": "LayoutModel",
          "model_module_version": "1.2.0",
          "state": {
            "_view_name": "LayoutView",
            "grid_template_rows": null,
            "right": null,
            "justify_content": null,
            "_view_module": "@jupyter-widgets/base",
            "overflow": null,
            "_model_module_version": "1.2.0",
            "_view_count": null,
            "flex_flow": null,
            "width": null,
            "min_width": null,
            "border": null,
            "align_items": null,
            "bottom": null,
            "_model_module": "@jupyter-widgets/base",
            "top": null,
            "grid_column": null,
            "overflow_y": null,
            "overflow_x": null,
            "grid_auto_flow": null,
            "grid_area": null,
            "grid_template_columns": null,
            "flex": null,
            "_model_name": "LayoutModel",
            "justify_items": null,
            "grid_row": null,
            "max_height": null,
            "align_content": null,
            "visibility": null,
            "align_self": null,
            "height": null,
            "min_height": null,
            "padding": null,
            "grid_auto_rows": null,
            "grid_gap": null,
            "max_width": null,
            "order": null,
            "_view_module_version": "1.2.0",
            "grid_template_areas": null,
            "object_position": null,
            "object_fit": null,
            "grid_auto_columns": null,
            "margin": null,
            "display": null,
            "left": null
          }
        },
        "1502293af5c2497d860d9f00279c0397": {
          "model_module": "@jupyter-widgets/controls",
          "model_name": "HTMLModel",
          "model_module_version": "1.5.0",
          "state": {
            "_view_name": "HTMLView",
            "style": "IPY_MODEL_0b6481f6c0554b2caeab3402c421da5d",
            "_dom_classes": [],
            "description": "",
            "_model_name": "HTMLModel",
            "placeholder": "​",
            "_view_module": "@jupyter-widgets/controls",
            "_model_module_version": "1.5.0",
            "value": "",
            "_view_count": null,
            "_view_module_version": "1.5.0",
            "description_tooltip": null,
            "_model_module": "@jupyter-widgets/controls",
            "layout": "IPY_MODEL_6b10ff8990484e6d910c326bcf0b62cb"
          }
        },
        "4e79ba413fa64a22a91300adf739caa5": {
          "model_module": "@jupyter-widgets/controls",
          "model_name": "FloatProgressModel",
          "model_module_version": "1.5.0",
          "state": {
            "_view_name": "ProgressView",
            "style": "IPY_MODEL_79803d92087b49dc84c24184f4edf191",
            "_dom_classes": [],
            "description": "",
            "_model_name": "FloatProgressModel",
            "bar_style": "success",
            "max": 170498071,
            "_view_module": "@jupyter-widgets/controls",
            "_model_module_version": "1.5.0",
            "value": 170498071,
            "_view_count": null,
            "_view_module_version": "1.5.0",
            "orientation": "horizontal",
            "min": 0,
            "description_tooltip": null,
            "_model_module": "@jupyter-widgets/controls",
            "layout": "IPY_MODEL_8b363d2e3b1c4be0b56a3a1858f6b0e7"
          }
        },
        "e28debc634a14ea0a0661ca49ca2d45a": {
          "model_module": "@jupyter-widgets/controls",
          "model_name": "HTMLModel",
          "model_module_version": "1.5.0",
          "state": {
            "_view_name": "HTMLView",
            "style": "IPY_MODEL_872f86a3dc30450490d37d4453f00d37",
            "_dom_classes": [],
            "description": "",
            "_model_name": "HTMLModel",
            "placeholder": "​",
            "_view_module": "@jupyter-widgets/controls",
            "_model_module_version": "1.5.0",
            "value": " 170499072/? [00:03&lt;00:00, 52260181.01it/s]",
            "_view_count": null,
            "_view_module_version": "1.5.0",
            "description_tooltip": null,
            "_model_module": "@jupyter-widgets/controls",
            "layout": "IPY_MODEL_95af02d1bf8e4d34872a87a03014f3f7"
          }
        },
        "0b6481f6c0554b2caeab3402c421da5d": {
          "model_module": "@jupyter-widgets/controls",
          "model_name": "DescriptionStyleModel",
          "model_module_version": "1.5.0",
          "state": {
            "_view_name": "StyleView",
            "_model_name": "DescriptionStyleModel",
            "description_width": "",
            "_view_module": "@jupyter-widgets/base",
            "_model_module_version": "1.5.0",
            "_view_count": null,
            "_view_module_version": "1.2.0",
            "_model_module": "@jupyter-widgets/controls"
          }
        },
        "6b10ff8990484e6d910c326bcf0b62cb": {
          "model_module": "@jupyter-widgets/base",
          "model_name": "LayoutModel",
          "model_module_version": "1.2.0",
          "state": {
            "_view_name": "LayoutView",
            "grid_template_rows": null,
            "right": null,
            "justify_content": null,
            "_view_module": "@jupyter-widgets/base",
            "overflow": null,
            "_model_module_version": "1.2.0",
            "_view_count": null,
            "flex_flow": null,
            "width": null,
            "min_width": null,
            "border": null,
            "align_items": null,
            "bottom": null,
            "_model_module": "@jupyter-widgets/base",
            "top": null,
            "grid_column": null,
            "overflow_y": null,
            "overflow_x": null,
            "grid_auto_flow": null,
            "grid_area": null,
            "grid_template_columns": null,
            "flex": null,
            "_model_name": "LayoutModel",
            "justify_items": null,
            "grid_row": null,
            "max_height": null,
            "align_content": null,
            "visibility": null,
            "align_self": null,
            "height": null,
            "min_height": null,
            "padding": null,
            "grid_auto_rows": null,
            "grid_gap": null,
            "max_width": null,
            "order": null,
            "_view_module_version": "1.2.0",
            "grid_template_areas": null,
            "object_position": null,
            "object_fit": null,
            "grid_auto_columns": null,
            "margin": null,
            "display": null,
            "left": null
          }
        },
        "79803d92087b49dc84c24184f4edf191": {
          "model_module": "@jupyter-widgets/controls",
          "model_name": "ProgressStyleModel",
          "model_module_version": "1.5.0",
          "state": {
            "_view_name": "StyleView",
            "_model_name": "ProgressStyleModel",
            "description_width": "",
            "_view_module": "@jupyter-widgets/base",
            "_model_module_version": "1.5.0",
            "_view_count": null,
            "_view_module_version": "1.2.0",
            "bar_color": null,
            "_model_module": "@jupyter-widgets/controls"
          }
        },
        "8b363d2e3b1c4be0b56a3a1858f6b0e7": {
          "model_module": "@jupyter-widgets/base",
          "model_name": "LayoutModel",
          "model_module_version": "1.2.0",
          "state": {
            "_view_name": "LayoutView",
            "grid_template_rows": null,
            "right": null,
            "justify_content": null,
            "_view_module": "@jupyter-widgets/base",
            "overflow": null,
            "_model_module_version": "1.2.0",
            "_view_count": null,
            "flex_flow": null,
            "width": null,
            "min_width": null,
            "border": null,
            "align_items": null,
            "bottom": null,
            "_model_module": "@jupyter-widgets/base",
            "top": null,
            "grid_column": null,
            "overflow_y": null,
            "overflow_x": null,
            "grid_auto_flow": null,
            "grid_area": null,
            "grid_template_columns": null,
            "flex": null,
            "_model_name": "LayoutModel",
            "justify_items": null,
            "grid_row": null,
            "max_height": null,
            "align_content": null,
            "visibility": null,
            "align_self": null,
            "height": null,
            "min_height": null,
            "padding": null,
            "grid_auto_rows": null,
            "grid_gap": null,
            "max_width": null,
            "order": null,
            "_view_module_version": "1.2.0",
            "grid_template_areas": null,
            "object_position": null,
            "object_fit": null,
            "grid_auto_columns": null,
            "margin": null,
            "display": null,
            "left": null
          }
        },
        "872f86a3dc30450490d37d4453f00d37": {
          "model_module": "@jupyter-widgets/controls",
          "model_name": "DescriptionStyleModel",
          "model_module_version": "1.5.0",
          "state": {
            "_view_name": "StyleView",
            "_model_name": "DescriptionStyleModel",
            "description_width": "",
            "_view_module": "@jupyter-widgets/base",
            "_model_module_version": "1.5.0",
            "_view_count": null,
            "_view_module_version": "1.2.0",
            "_model_module": "@jupyter-widgets/controls"
          }
        },
        "95af02d1bf8e4d34872a87a03014f3f7": {
          "model_module": "@jupyter-widgets/base",
          "model_name": "LayoutModel",
          "model_module_version": "1.2.0",
          "state": {
            "_view_name": "LayoutView",
            "grid_template_rows": null,
            "right": null,
            "justify_content": null,
            "_view_module": "@jupyter-widgets/base",
            "overflow": null,
            "_model_module_version": "1.2.0",
            "_view_count": null,
            "flex_flow": null,
            "width": null,
            "min_width": null,
            "border": null,
            "align_items": null,
            "bottom": null,
            "_model_module": "@jupyter-widgets/base",
            "top": null,
            "grid_column": null,
            "overflow_y": null,
            "overflow_x": null,
            "grid_auto_flow": null,
            "grid_area": null,
            "grid_template_columns": null,
            "flex": null,
            "_model_name": "LayoutModel",
            "justify_items": null,
            "grid_row": null,
            "max_height": null,
            "align_content": null,
            "visibility": null,
            "align_self": null,
            "height": null,
            "min_height": null,
            "padding": null,
            "grid_auto_rows": null,
            "grid_gap": null,
            "max_width": null,
            "order": null,
            "_view_module_version": "1.2.0",
            "grid_template_areas": null,
            "object_position": null,
            "object_fit": null,
            "grid_auto_columns": null,
            "margin": null,
            "display": null,
            "left": null
          }
        }
      }
    }
  },
  "cells": [
    {
      "cell_type": "markdown",
      "metadata": {
        "id": "view-in-github",
        "colab_type": "text"
      },
      "source": [
        "<a href=\"https://colab.research.google.com/github/kristen-a-murphy/eclip/blob/master/Practice7.ipynb\" target=\"_parent\"><img src=\"https://colab.research.google.com/assets/colab-badge.svg\" alt=\"Open In Colab\"/></a>"
      ]
    },
    {
      "cell_type": "markdown",
      "metadata": {
        "id": "IRsSn7f4BTRg"
      },
      "source": [
        "# 7: Practice\n",
        "In this exercise, you will practice using deep learning with artificial neural networks and the Pytorch library to build classification models. Note that Pytorch is **not** included in the Anaconda distribution by default. You have three options for using Pytorch to complete this assignment:\n",
        "\n",
        "1. Install Pytorch locally (for free). You can see the directions on the [Pytorch website here](https://pytorch.org/get-started/locally/). Select the stable build, your operating system, Conda (for Anaconda), Python, and CPU to see install directions for your particular setup. (CUDA is used to support hardware acceleration with NVIDIA graphics cards and is not necessary for this course).\n",
        "\n",
        "1. Use a [Duke OIT container](https://cmgr.oit.duke.edu/containers). Make sure to use the **PyTorch** one. If you have not already reserved your container, see the class website's [Resources & Getting Help](https://sites.duke.edu/compsci216f2021/resources-getting-help/) page.\n",
        "\n",
        "1. Use Pytorch in a Jupyter notebook in the cloud (also for free). The easiest way to do this is with a Google colab notebook; Pytorch will already be available to you in this cloud environment. If you choose this option, go to the [Google colab website](https://colab.research.google.com) select \"Upload\" at the right side of the orange menu bar, and select this `.ipynb` file. You can then complete the assignment in colab and download the completed `.ipynb` file to turn in on Gradescope.\n",
        "\n",
        "This practice assignment is tutorial style; in general we will provide the necessary code and simply ask you to run the code, observe what happens, and answer questions based on the code. One of the questions you will answer as a Sakai Quiz (with unlimited attempts), the rest you will answer in this notebook. The code in this assignment is based on the image classification example presented in the [Deep Learning with Pytorch: A 60 Minute Blitz](https://pytorch.org/tutorials/beginner/deep_learning_60min_blitz.html) tutorial and the [Pytorch Basics Tutorial](https://pytorch.org/tutorials/beginner/basics/intro.html#). You are welcome and encouraged to visit these and other Pytorch [tutorials](https://pytorch.org/tutorials/), [documentation](https://pytorch.org/docs/stable/index.html), and [recipes/examples](https://pytorch.org/tutorials/recipes/recipes_index.html) as needed or for your own interest and learning.\n",
        "\n",
        "When you finish please confirm that your notebook and its output looks correct before submitting your .ipynb file (the notebook file) on gradescope. If you select Kernel -> Restart and Run All, please allow time for the code to finish executing; the code in this notebook may take a few minutes to run."
      ]
    },
    {
      "cell_type": "markdown",
      "metadata": {
        "id": "mAAajdJaBTRs"
      },
      "source": [
        "### Question 1: The Data\n",
        "First, we import the necessary libraries and download the `CIFAR-10` dataset from Pytorch. The `CIFAR-10` dataset consists of 60,000 32 by 32 pixel color images in 10 classes, with 6,000 images per class. There are 50,000 training images and 10,000 test images. The classes of the images are things like `airplane`, `automobile`, `bird`, `cat`, `deer`, etc. You can read more about the dataset at the [curator's website](https://www.cs.toronto.edu/~kriz/cifar.html). \n",
        "\n",
        "Run the following code to import necessary libraries, download the data, and preview some of the images along with their classes. **Note that this step may take a few minutes depending on your internet speed**; the dataset is about 160 MB. Once you have downloaded the data once, rerunning the cell should be fast; it will verify that you already have the dataset rather than redownload every time."
      ]
    },
    {
      "cell_type": "markdown",
      "metadata": {
        "editable": false,
        "id": "zotjaYfLCVcw"
      },
      "source": [
        "<!-- BEGIN QUESTION -->\n",
        "\n",
        "<!--\n",
        "BEGIN QUESTION\n",
        "name: q1\n",
        "manual: true\n",
        "points:\n",
        "    - 4\n",
        "-->"
      ]
    },
    {
      "cell_type": "code",
      "metadata": {
        "id": "t1KoIi3IBTRw"
      },
      "source": [
        "# Run but do not modify this code\n",
        "# Imports all of the necessary Pytorch libraries\n",
        "\n",
        "import torch\n",
        "import torchvision\n",
        "import torchvision.transforms as transforms\n",
        "import torch.nn as nn\n",
        "import torch.optim as optim"
      ],
      "execution_count": null,
      "outputs": []
    },
    {
      "cell_type": "markdown",
      "metadata": {
        "editable": false,
        "id": "Q0wVEGMTflOE"
      },
      "source": [
        "<!-- END QUESTION -->"
      ]
    },
    {
      "cell_type": "code",
      "metadata": {
        "colab": {
          "base_uri": "https://localhost:8080/",
          "height": 120,
          "referenced_widgets": [
            "be67e5a3b1ee4ae88edc98c82f40ad3f",
            "629eec3764c442e7937660fbfea56888",
            "1502293af5c2497d860d9f00279c0397",
            "4e79ba413fa64a22a91300adf739caa5",
            "e28debc634a14ea0a0661ca49ca2d45a",
            "0b6481f6c0554b2caeab3402c421da5d",
            "6b10ff8990484e6d910c326bcf0b62cb",
            "79803d92087b49dc84c24184f4edf191",
            "8b363d2e3b1c4be0b56a3a1858f6b0e7",
            "872f86a3dc30450490d37d4453f00d37",
            "95af02d1bf8e4d34872a87a03014f3f7"
          ]
        },
        "id": "s-_Ku1iHBTR5",
        "outputId": "7ab1ed90-a9fa-4634-b2b8-f44af9e21c0a"
      },
      "source": [
        "# Run but do not modify this code\n",
        "# Downloads, imports, and formats the CIFAR-10 image dataset. \n",
        "# May take a few minutes the first time you run it\n",
        "\n",
        "transform = transforms.Compose(\n",
        "    [transforms.ToTensor(),\n",
        "     transforms.Normalize((0.5, 0.5, 0.5), (0.5, 0.5, 0.5))])\n",
        "\n",
        "trainset = torchvision.datasets.CIFAR10(root='./data', train=True,\n",
        "                                        download=True, transform=transform)\n",
        "train_dataloader = torch.utils.data.DataLoader(trainset, batch_size=4,\n",
        "                                          shuffle=True, num_workers=2)\n",
        "\n",
        "testset = torchvision.datasets.CIFAR10(root='./data', train=False,\n",
        "                                       download=True, transform=transform)\n",
        "test_dataloader = torch.utils.data.DataLoader(testset, batch_size=4,\n",
        "                                         shuffle=False, num_workers=2)\n",
        "\n",
        "classes = ('plane', 'car', 'bird', 'cat',\n",
        "           'deer', 'dog', 'frog', 'horse', 'ship', 'truck')"
      ],
      "execution_count": null,
      "outputs": [
        {
          "output_type": "stream",
          "name": "stdout",
          "text": [
            "Downloading https://www.cs.toronto.edu/~kriz/cifar-10-python.tar.gz to ./data/cifar-10-python.tar.gz\n"
          ]
        },
        {
          "output_type": "display_data",
          "data": {
            "application/vnd.jupyter.widget-view+json": {
              "model_id": "be67e5a3b1ee4ae88edc98c82f40ad3f",
              "version_minor": 0,
              "version_major": 2
            },
            "text/plain": [
              "  0%|          | 0/170498071 [00:00<?, ?it/s]"
            ]
          },
          "metadata": {}
        },
        {
          "output_type": "stream",
          "name": "stdout",
          "text": [
            "Extracting ./data/cifar-10-python.tar.gz to ./data\n",
            "Files already downloaded and verified\n"
          ]
        }
      ]
    },
    {
      "cell_type": "code",
      "metadata": {
        "colab": {
          "base_uri": "https://localhost:8080/",
          "height": 155
        },
        "id": "fVK2nCq4BTR9",
        "outputId": "51ee2061-3268-4f91-c537-26c0b596a948"
      },
      "source": [
        "# Run but do not modify this code\n",
        "# Displays random images from the CIFAR-10 image dataset\n",
        "\n",
        "%matplotlib inline\n",
        "import matplotlib.pyplot as plt\n",
        "import numpy as np\n",
        "\n",
        "def imshow(img):\n",
        "    img = img / 2 + 0.5     # unnormalize\n",
        "    npimg = img.numpy()\n",
        "    plt.imshow(np.transpose(npimg, (1, 2, 0)))\n",
        "    plt.show()\n",
        "\n",
        "# get some random training images\n",
        "dataiter = iter(train_dataloader)\n",
        "images, labels = dataiter.next()\n",
        "\n",
        "# show images\n",
        "imshow(torchvision.utils.make_grid(images))\n",
        "# print labels\n",
        "print(' '.join('%5s' % classes[labels[j]] for j in range(4)))\n",
        "plt.show()"
      ],
      "execution_count": null,
      "outputs": [
        {
          "output_type": "display_data",
          "data": {
            "image/png": "[encoded data removed]",
            "text/plain": [
              "<Figure size 432x288 with 1 Axes>"
            ]
          },
          "metadata": {
            "needs_background": "light"
          }
        },
        {
          "output_type": "stream",
          "name": "stdout",
          "text": [
            " ship   cat   car   dog\n"
          ]
        }
      ]
    },
    {
      "cell_type": "markdown",
      "metadata": {
        "id": "aKOe7EaaBTR_"
      },
      "source": [
        "After running this code, `images` is a tensor containing the images displayed above. Run the code below to see the shape of the tensor, which is 4 by 3 by 32 by 32. Explain these values: What do these numbers represent in terms of the data?"
      ]
    },
    {
      "cell_type": "code",
      "metadata": {
        "colab": {
          "base_uri": "https://localhost:8080/"
        },
        "id": "6eTgzrG-BTSA",
        "outputId": "bf1b017b-f1dc-4d96-9ad7-00660451c9a6"
      },
      "source": [
        "# Run but do not modify this code\n",
        "print(images.shape)"
      ],
      "execution_count": null,
      "outputs": [
        {
          "output_type": "stream",
          "name": "stdout",
          "text": [
            "torch.Size([4, 3, 32, 32])\n"
          ]
        }
      ]
    },
    {
      "cell_type": "markdown",
      "metadata": {
        "id": "kiPiK2__CBK3",
        "tags": []
      },
      "source": [
        "**Please write your answer for question 1 here**"
      ]
    },
    {
      "cell_type": "markdown",
      "metadata": {
        "tags": [],
        "id": "MrUuc_QjflOH"
      },
      "source": [
        "### Answer 1\n",
        "\n",
        "The size of the tensor images is [4, 3, 32, 32]. The first value represents the number of images in the batch. This is the number of images that will be shown. The second value is the number of channels in the image, likely red, green, and blue as these images are colored. The third and fourth values represent the dimensions of the images themselves. They are 32 by 32 pixels."
      ]
    },
    {
      "cell_type": "markdown",
      "metadata": {
        "id": "ch3WK3XfBTSJ"
      },
      "source": [
        "### Question 2\n",
        "Now we will start by defining a (relatively) small multilayer perceptron for classifying these images."
      ]
    },
    {
      "cell_type": "code",
      "metadata": {
        "id": "1jAk-IijBTSK"
      },
      "source": [
        "# Run but do not modify this code\n",
        "# Defines a multilayer perceptron class\n",
        "\n",
        "class MultilayerPerceptron(nn.Module):\n",
        "    def __init__(self):\n",
        "        super(MultilayerPerceptron, self).__init__()\n",
        "        self.flatten = nn.Flatten()\n",
        "        self.linear_relu_stack = nn.Sequential(\n",
        "            nn.Linear(32*32*3, 100),\n",
        "            nn.ReLU(),\n",
        "            nn.Linear(100, 25),\n",
        "            nn.ReLU(),\n",
        "            nn.Linear(25, 10),\n",
        "            nn.ReLU()\n",
        "        )\n",
        "\n",
        "    def forward(self, x):\n",
        "        x = self.flatten(x)\n",
        "        logits = self.linear_relu_stack(x)\n",
        "        return logits"
      ],
      "execution_count": null,
      "outputs": []
    },
    {
      "cell_type": "markdown",
      "metadata": {
        "id": "UPC0O8CnBTSO"
      },
      "source": [
        "Answer the following questions about this `MultilayerPerceptron` defined in the code above.\n",
        "1. How many neurons are there in the input layer of the neural network?\n",
        "2. How many **hidden** (that is, apart from the input and output layers) fully connected linear layers are there in the network?\n",
        "3. What nonlinear activation function is the network using?\n",
        "4. How many parameters are there for the connection between the input layer and the first hidden fully connected layer in the network?"
      ]
    },
    {
      "cell_type": "markdown",
      "metadata": {
        "id": "yjALtYqXqNRk"
      },
      "source": [
        "**Please fill your answers to question2 on Sakai**\n"
      ]
    },
    {
      "cell_type": "markdown",
      "metadata": {
        "id": "Wdy1o4jvBTSS"
      },
      "source": [
        "<!-- END QUESTION -->\n",
        "\n",
        "\n",
        "\n",
        "### Question 3\n",
        "Now we define our hyperparameters, initialize our model and optimizer, and define our training and testing process. The training uses stochastic gradient descent and prints the average training loss after every 1,250 batches or 5,000 images. After each of three epochs of training we print the average accuracy of the model on the held out test data; this is the percentage of the test images that our model correctly classifies."
      ]
    },
    {
      "cell_type": "code",
      "metadata": {
        "id": "p7Cf39J9BTSS"
      },
      "source": [
        "# Run but do not modify this code\n",
        "# Defines hyperparameters \n",
        "\n",
        "torch.manual_seed(216)\n",
        "learning_rate = 1e-3\n",
        "epochs = 3"
      ],
      "execution_count": null,
      "outputs": []
    },
    {
      "cell_type": "code",
      "metadata": {
        "id": "xjRrw7ZABTST"
      },
      "source": [
        "# Run but do not modify this code\n",
        "# Initializes the network, loss function, and optimizer\n",
        "\n",
        "model = MultilayerPerceptron()\n",
        "loss_fn = nn.CrossEntropyLoss()\n",
        "optimizer = torch.optim.SGD(model.parameters(), lr=learning_rate)"
      ],
      "execution_count": null,
      "outputs": []
    },
    {
      "cell_type": "code",
      "metadata": {
        "id": "05RKXAS2BTSV"
      },
      "source": [
        "# Run but do not modify this code\n",
        "# Defines the training optimization process and\n",
        "# calculating accuracy on the held out testing data\n",
        "\n",
        "def train_loop(dataloader, model, loss_fn, optimizer):\n",
        "    size = len(dataloader.dataset)\n",
        "    avg_batch_loss = 0.0\n",
        "    for batch, (X, y) in enumerate(dataloader):\n",
        "        \n",
        "        # Compute prediction and loss\n",
        "        pred = model(X)\n",
        "        loss = loss_fn(pred, y)\n",
        "\n",
        "        # Backpropagation\n",
        "        optimizer.zero_grad()\n",
        "        loss.backward()\n",
        "        optimizer.step()\n",
        "        avg_batch_loss += loss.item()\n",
        "\n",
        "        # Print average loss every 1250 batches\n",
        "        if ((batch > 0) and (batch % 1250 == 0)):\n",
        "            loss, current = loss.item(), batch * len(X)\n",
        "            print(f\"Average Loss: {avg_batch_loss/1250:>7f}  [{current:>5d}/{size:>5d}]\")\n",
        "            avg_batch_loss = 0.0\n",
        "            \n",
        "def test_loop(dataloader, model, loss_fn):\n",
        "    size = len(dataloader.dataset)\n",
        "    test_loss, correct = 0, 0\n",
        "\n",
        "    with torch.no_grad():\n",
        "        for X, y in dataloader:\n",
        "            pred = model(X)\n",
        "            test_loss += loss_fn(pred, y).item()\n",
        "            correct += (pred.argmax(1) == y).type(torch.float).sum().item()\n",
        "\n",
        "    test_loss /= size\n",
        "    correct /= size\n",
        "    print(f\"Test Error: \\n Accuracy: {(100*correct):>0.1f}%, Avg loss: {test_loss:>8f} \\n\")"
      ],
      "execution_count": null,
      "outputs": []
    },
    {
      "cell_type": "code",
      "metadata": {
        "id": "pIBCV0I1BTSZ",
        "colab": {
          "base_uri": "https://localhost:8080/"
        },
        "outputId": "9d9d6b4d-5039-43df-c7bb-1fe7db5a25bf"
      },
      "source": [
        "# Run but do not modify this code\n",
        "# Performs 'epochs' of training with stochastic\n",
        "# gradient descent, printing average loss of every\n",
        "# 1250 batches. Prints test accuracy after each\n",
        "# epoch.\n",
        "# NOTE: Optimization on 50,000 training samples may take\n",
        "# some time, expect this code to run for several seconds \n",
        "# to a couple of minutes.\n",
        "\n",
        "for t in range(epochs):\n",
        "    print(f\"Epoch {t+1}\\n-------------------------------\")\n",
        "    train_loop(train_dataloader, model, loss_fn, optimizer)\n",
        "    test_loop(test_dataloader, model, loss_fn)\n",
        "print(\"Done!\")"
      ],
      "execution_count": null,
      "outputs": [
        {
          "output_type": "stream",
          "name": "stdout",
          "text": [
            "Epoch 1\n",
            "-------------------------------\n",
            "Average Loss: 2.290818  [ 5000/50000]\n",
            "Average Loss: 2.275833  [10000/50000]\n",
            "Average Loss: 2.257851  [15000/50000]\n",
            "Average Loss: 2.230425  [20000/50000]\n",
            "Average Loss: 2.215106  [25000/50000]\n",
            "Average Loss: 2.187408  [30000/50000]\n",
            "Average Loss: 2.172579  [35000/50000]\n",
            "Average Loss: 2.161935  [40000/50000]\n",
            "Average Loss: 2.122656  [45000/50000]\n",
            "Test Error: \n",
            " Accuracy: 28.2%, Avg loss: 0.524430 \n",
            "\n",
            "Epoch 2\n",
            "-------------------------------\n",
            "Average Loss: 2.087497  [ 5000/50000]\n",
            "Average Loss: 2.074420  [10000/50000]\n",
            "Average Loss: 2.063037  [15000/50000]\n",
            "Average Loss: 2.048213  [20000/50000]\n",
            "Average Loss: 2.048364  [25000/50000]\n",
            "Average Loss: 2.032581  [30000/50000]\n",
            "Average Loss: 2.012901  [35000/50000]\n",
            "Average Loss: 1.996825  [40000/50000]\n",
            "Average Loss: 2.013006  [45000/50000]\n",
            "Test Error: \n",
            " Accuracy: 33.1%, Avg loss: 0.496158 \n",
            "\n",
            "Epoch 3\n",
            "-------------------------------\n",
            "Average Loss: 1.984119  [ 5000/50000]\n",
            "Average Loss: 1.991349  [10000/50000]\n",
            "Average Loss: 1.985094  [15000/50000]\n",
            "Average Loss: 1.943289  [20000/50000]\n",
            "Average Loss: 1.958676  [25000/50000]\n",
            "Average Loss: 1.970846  [30000/50000]\n",
            "Average Loss: 1.969473  [35000/50000]\n",
            "Average Loss: 1.972623  [40000/50000]\n",
            "Average Loss: 1.944871  [45000/50000]\n",
            "Test Error: \n",
            " Accuracy: 35.0%, Avg loss: 0.483850 \n",
            "\n",
            "Done!\n"
          ]
        }
      ]
    },
    {
      "cell_type": "markdown",
      "metadata": {
        "id": "G7vfsEgiBTSb"
      },
      "source": [
        "Answer the following questions about the training/testing in the code above. For parts 2, 3, and 4 answer the first question in Sakai and include that answer in your response to the second question to make manual grading easier.\n",
        "\n",
        "1. There are 10 neurons in the output layer of the model. How does the code in `test_loop` predict a single class as an integer given the 10 values output by the model during forward propagation?\n",
        "\n",
        "2. After 3 epochs of training, is our model performing better than randomly guessing the class? If yes, how much? If no, how can you tell?\n",
        "\n",
        "3. Suppose we double the sizes of the hidden fully connected layers in the model. Would you expect the model to achieve better (lower) or worse (higher) loss during training? Briefly explain your answer.\n",
        "\n",
        "4. Again suppose we double the sizes of the hidden fully connected layers in the model. Would you expect training the model with stochastic gradient descent over two epochs to take less or more time? Briefly explain your answer."
      ]
    },
    {
      "cell_type": "markdown",
      "metadata": {
        "id": "cuk7O0KCflOM"
      },
      "source": [
        "**Please also answer the multiple choice questions on Sakai to test your understanding and get full credit for question3**"
      ]
    },
    {
      "cell_type": "markdown",
      "metadata": {
        "id": "ftHeflvRflOM"
      },
      "source": [
        "### Answer 3\n",
        "1. In test_loop, the code predicts a single class as an integer predicting based on the model developed on the training data. Using the 10 outputs, it attempts to minimize loss and predicts the class.\n",
        "2. After three epochs of training, the model is performing better than randomly guessing the class by approximately 25%. Since there are 10 classes, randomly guessing the class would be correct about 10% of the time. Given that the testing accuracy after the third epoch is 35.0%, this is about 25% better than randomly guessing.\n",
        "3. We would expect the model to achieve lower (better) loss during training because it is likely that doubling the size of the fully connected linear layers would better the predictions due to the amount of parameters to fit the model on. Bettering the predictions would decrease loss because loss is based on the difference between the predictions and the actual values.\n",
        "4. We would expect training with stochastic gradient descent to take more time because its more computationally expensive to go through the doubled fully connected layers. An increased number of parameters to learn and neurons to consider require more computation, so going through the doubled fully connected layers would be more expensive in terms of computation."
      ]
    },
    {
      "cell_type": "markdown",
      "metadata": {
        "id": "2DyaLielBTSb"
      },
      "source": [
        "<!-- END QUESTION -->\n",
        "\n",
        "\n",
        "\n",
        "### Question 4\n",
        "Now we define a convolutional neural network for the same classification task."
      ]
    },
    {
      "cell_type": "code",
      "metadata": {
        "id": "8n8zOZ3WBTSc"
      },
      "source": [
        "# Run but do not modify this code\n",
        "# Defines a convolutional neural network class\n",
        "\n",
        "class ConvNet(nn.Module):\n",
        "    def __init__(self):\n",
        "        super(ConvNet, self).__init__()\n",
        "        self.conv_pool_stack = nn.Sequential(\n",
        "            nn.Conv2d(3, 6, 5),\n",
        "            nn.ReLU(),\n",
        "            nn.MaxPool2d(2, 2),\n",
        "            nn.Conv2d(6, 16, 5),\n",
        "            nn.ReLU(),\n",
        "            nn.MaxPool2d(2, 2),\n",
        "        )\n",
        "        self.flatten = nn.Flatten()\n",
        "        self.linear_relu_stack = nn.Sequential(\n",
        "            nn.Linear(16*5*5, 100),\n",
        "            nn.ReLU(),\n",
        "            nn.Linear(100, 25),\n",
        "            nn.ReLU(),\n",
        "            nn.Linear(25, 10),\n",
        "            nn.ReLU()\n",
        "        )\n",
        "\n",
        "    def forward(self, x):\n",
        "        convolved = self.conv_pool_stack(x)\n",
        "        flattened = self.flatten(convolved)\n",
        "        logits = self.linear_relu_stack(flattened)\n",
        "        return logits"
      ],
      "execution_count": null,
      "outputs": []
    },
    {
      "cell_type": "markdown",
      "metadata": {
        "id": "mpjlqDSdBTSc"
      },
      "source": [
        "Answer the following questions about the `ConvNet` class defined in the code above. For each part, answer the question in Sakai and then include your answer with a brief explanation of your answer in the notebook. You do not need to give the exact number of parameters.\n",
        "\n",
        "1. The first hidden fully connected linear layer in the network, after convolving, pooling, and flattening, has $16 \\times 5 \\times 5 = 400$ neurons. This is much less than the size of the input for the `MultilayerPerceptron` model. What part of the `ConvNet` most accounts for this reduction in the input size?\n",
        "\n",
        "2. Are there more parameters in the `conv_pool_stack` or the `linear_relu_stack` portions of the network?\n",
        "\n",
        "3. Does this model have more or fewer total parameters than the `MultilayerPerceptron` defined previously?"
      ]
    },
    {
      "cell_type": "markdown",
      "metadata": {
        "id": "xn8d4XcPflON"
      },
      "source": [
        "**Please also answer the multiple choice questions on Sakai to test your understanding and get full credit for question4**"
      ]
    },
    {
      "cell_type": "markdown",
      "metadata": {
        "tags": [],
        "id": "CEYdzzJ3flON"
      },
      "source": [
        "### Answer4\n",
        "1. The part of the Convolutional Neural Network that most accounts for the reduction in input size is the pooling layers. These layers reduce spatial size so there is less computational power required.\n",
        "2. There are more parameters in the linear_relu_stack portion of the network. In the connection between the input layer and the first hidden fully connected layer alone, there are 400*100+100 parameters. When considering the other connections, the conv_pool_stack portion of the network has significantly fewer parameters than the linear_relu_stack.\n",
        "3. This model has fewer parameters than the previously defined MultilayerPerceptron. The dimensoinality reduction alone shown in the conv_pool_stack layer greatly reduces the number of parameters used in the network. There are more parameters in the linear_relu_stack portion of the network than the conv_pool_stack portion of the network. In the linear_relu_stack portion of the network alone, there are 400x100+100 + 100x25+25 + 25x10+10. If we were to overestimate the parameters the Conv Net has and double the number of parameters in linear_relu_stack, the value would still be significantly lower than the first connection from input layer to the first hidden fully connected layer in the MultilayerPerceptron."
      ]
    },
    {
      "cell_type": "markdown",
      "metadata": {
        "id": "t9Yq31hwBTSd"
      },
      "source": [
        "<!-- END QUESTION -->\n",
        "\n",
        "\n",
        "\n",
        "### Question 5\n",
        "Now we define our hyperparameters, initialize our model and optimizer, and define our training and testing process. As for the `MultilayerPerceptron`, the training uses stochastic gradient descent and prints the average training loss after every 1,250 batches or 5,000 images. After each of three epochs of training we print the average accuracy of the model on the held out test data; this is the percentage of the test images that our model correctly classifies."
      ]
    },
    {
      "cell_type": "markdown",
      "metadata": {
        "editable": false,
        "id": "tSSczWH_r9TZ"
      },
      "source": [
        "<!-- BEGIN QUESTION -->\n",
        "\n",
        "<!--\n",
        "BEGIN QUESTION\n",
        "name: q5\n",
        "manual: true\n",
        "points:\n",
        "    - 4\n",
        "    - 2\n",
        "-->"
      ]
    },
    {
      "cell_type": "code",
      "metadata": {
        "id": "WqpZ17HxBTSd"
      },
      "source": [
        "# Run but do not modify this code\n",
        "\n",
        "torch.manual_seed(216)\n",
        "learning_rate = 1e-3\n",
        "epochs = 3\n",
        "conv_model = ConvNet()\n",
        "loss_fn = nn.CrossEntropyLoss()\n",
        "optimizer = torch.optim.SGD(conv_model.parameters(), lr=learning_rate)"
      ],
      "execution_count": null,
      "outputs": []
    },
    {
      "cell_type": "code",
      "metadata": {
        "id": "NntqWnuABTSi",
        "colab": {
          "base_uri": "https://localhost:8080/"
        },
        "outputId": "40417638-8c0a-4ab3-9d78-21a07442e425"
      },
      "source": [
        "# Run but do not modify this code\n",
        "# Performs 'epochs' of training with stochastic\n",
        "# gradient descent, printing average loss of every\n",
        "# 1250 batches. Prints test accuracy after each\n",
        "# epoch.\n",
        "# NOTE: Optimization on 50,000 training samples may take\n",
        "# some time, expect this code to run for several seconds \n",
        "# to a couple of minutes.\n",
        "\n",
        "for t in range(epochs):\n",
        "    print(f\"Epoch {t+1}\\n-------------------------------\")\n",
        "    train_loop(train_dataloader, conv_model, loss_fn, optimizer)\n",
        "    test_loop(test_dataloader, conv_model, loss_fn)\n",
        "print(\"Done!\")"
      ],
      "execution_count": null,
      "outputs": [
        {
          "output_type": "stream",
          "name": "stdout",
          "text": [
            "Epoch 1\n",
            "-------------------------------\n",
            "Average Loss: 2.305754  [ 5000/50000]\n",
            "Average Loss: 2.303169  [10000/50000]\n",
            "Average Loss: 2.302089  [15000/50000]\n",
            "Average Loss: 2.300232  [20000/50000]\n",
            "Average Loss: 2.299102  [25000/50000]\n",
            "Average Loss: 2.298133  [30000/50000]\n",
            "Average Loss: 2.296783  [35000/50000]\n",
            "Average Loss: 2.293334  [40000/50000]\n",
            "Average Loss: 2.288087  [45000/50000]\n",
            "Test Error: \n",
            " Accuracy: 22.6%, Avg loss: 0.569338 \n",
            "\n",
            "Epoch 2\n",
            "-------------------------------\n",
            "Average Loss: 2.272506  [ 5000/50000]\n",
            "Average Loss: 2.247788  [10000/50000]\n",
            "Average Loss: 2.208863  [15000/50000]\n",
            "Average Loss: 2.165290  [20000/50000]\n",
            "Average Loss: 2.146600  [25000/50000]\n",
            "Average Loss: 2.074048  [30000/50000]\n",
            "Average Loss: 2.005220  [35000/50000]\n",
            "Average Loss: 1.961910  [40000/50000]\n",
            "Average Loss: 1.932519  [45000/50000]\n",
            "Test Error: \n",
            " Accuracy: 31.6%, Avg loss: 0.470227 \n",
            "\n",
            "Epoch 3\n",
            "-------------------------------\n",
            "Average Loss: 1.896223  [ 5000/50000]\n",
            "Average Loss: 1.866683  [10000/50000]\n",
            "Average Loss: 1.814070  [15000/50000]\n",
            "Average Loss: 1.805263  [20000/50000]\n",
            "Average Loss: 1.786033  [25000/50000]\n",
            "Average Loss: 1.763763  [30000/50000]\n",
            "Average Loss: 1.721801  [35000/50000]\n",
            "Average Loss: 1.698401  [40000/50000]\n",
            "Average Loss: 1.695611  [45000/50000]\n",
            "Test Error: \n",
            " Accuracy: 39.3%, Avg loss: 0.409821 \n",
            "\n",
            "Done!\n"
          ]
        }
      ]
    },
    {
      "cell_type": "markdown",
      "metadata": {
        "id": "ii8vS7jeBTSj"
      },
      "source": [
        "Answer the following questions about this the training/testing in the code above. For part 2 answer the first question in Sakai and include that answer in your explanation to make manual grading easier.\n",
        "\n",
        "1. Compare the results with the `ConvNet` to those obtained with the `MultilayerPerceptron`. In particular, what difference do you observe about the training loss of the two models during the third epoch of training?\n",
        "\n",
        "2. Based on your observation of the training loss of the `ConvNet` during the third epoch of training, do you think increasing the `learning_rate` (the step size of stochastic gradient descent) somewhat (say, from 0.001 to 0.01) would result in better or worse accuracy during testing after three epochs of training? Briefly explain your answer. "
      ]
    },
    {
      "cell_type": "markdown",
      "metadata": {
        "tags": [],
        "id": "dFhqFahZflOR"
      },
      "source": [
        "### Answer5"
      ]
    },
    {
      "cell_type": "markdown",
      "metadata": {
        "id": "zLsmyXX_flOR"
      },
      "source": [
        "**Please also answer the multiple choice questions on Sakai to test your understanding and get full credit for question5**"
      ]
    },
    {
      "cell_type": "markdown",
      "metadata": {
        "id": "YI73ghrYflOR"
      },
      "source": [
        "1. There is less training loss in the Convolutional Neural Network than in the MultilayerPerceptron. This is shown in the accuracy and average loss in each of the three epochs. In the third epoch in particular, there is greater decrease in loss as the progression through epoch goes along in the CNN while it stays relatively the same in the third epoch in the MultilayerPerceptron.\n",
        "2. Based on the observation of the training loss during the third epoch of training, I think it would result in better accuracy after the third epoch. There would be more rapid learning in the first three epochs. However, larger numbers for learning rate can result in unpredictability during testing and overall smaller learning rates, while slower, ultimately lead to better models. For that reason, I believe it would lead to more accuracy in the first three epochs, but, in the end, would lead to less accuracy in the model at the end."
      ]
    }
  ]
}